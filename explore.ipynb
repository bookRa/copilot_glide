{
 "cells": [
  {
   "cell_type": "code",
   "execution_count": null,
   "metadata": {},
   "outputs": [],
   "source": [
    "# just locally running the notebook found at https://github.com/openai/glide-text2im/blob/main/notebooks/text2im.ipynb\n",
    "# !pip install git+https://github.com/openai/glide-text2im"
   ]
  },
  {
   "cell_type": "code",
   "execution_count": 1,
   "metadata": {},
   "outputs": [],
   "source": [
    "from PIL import Image\n",
    "from IPython.display import display\n",
    "import torch as th\n",
    "import os"
   ]
  },
  {
   "cell_type": "code",
   "execution_count": 2,
   "metadata": {},
   "outputs": [
    {
     "name": "stdout",
     "output_type": "stream",
     "text": [
      "torch version 1.9.0\n",
      "|===========================================================================|\n",
      "|                  PyTorch CUDA memory summary, device ID 0                 |\n",
      "|---------------------------------------------------------------------------|\n",
      "|            CUDA OOMs: 0            |        cudaMalloc retries: 0         |\n",
      "|===========================================================================|\n",
      "|        Metric         | Cur Usage  | Peak Usage | Tot Alloc  | Tot Freed  |\n",
      "|---------------------------------------------------------------------------|\n",
      "| Allocated memory      |       0 B  |       0 B  |       0 B  |       0 B  |\n",
      "|       from large pool |       0 B  |       0 B  |       0 B  |       0 B  |\n",
      "|       from small pool |       0 B  |       0 B  |       0 B  |       0 B  |\n",
      "|---------------------------------------------------------------------------|\n",
      "| Active memory         |       0 B  |       0 B  |       0 B  |       0 B  |\n",
      "|       from large pool |       0 B  |       0 B  |       0 B  |       0 B  |\n",
      "|       from small pool |       0 B  |       0 B  |       0 B  |       0 B  |\n",
      "|---------------------------------------------------------------------------|\n",
      "| GPU reserved memory   |       0 B  |       0 B  |       0 B  |       0 B  |\n",
      "|       from large pool |       0 B  |       0 B  |       0 B  |       0 B  |\n",
      "|       from small pool |       0 B  |       0 B  |       0 B  |       0 B  |\n",
      "|---------------------------------------------------------------------------|\n",
      "| Non-releasable memory |       0 B  |       0 B  |       0 B  |       0 B  |\n",
      "|       from large pool |       0 B  |       0 B  |       0 B  |       0 B  |\n",
      "|       from small pool |       0 B  |       0 B  |       0 B  |       0 B  |\n",
      "|---------------------------------------------------------------------------|\n",
      "| Allocations           |       0    |       0    |       0    |       0    |\n",
      "|       from large pool |       0    |       0    |       0    |       0    |\n",
      "|       from small pool |       0    |       0    |       0    |       0    |\n",
      "|---------------------------------------------------------------------------|\n",
      "| Active allocs         |       0    |       0    |       0    |       0    |\n",
      "|       from large pool |       0    |       0    |       0    |       0    |\n",
      "|       from small pool |       0    |       0    |       0    |       0    |\n",
      "|---------------------------------------------------------------------------|\n",
      "| GPU reserved segments |       0    |       0    |       0    |       0    |\n",
      "|       from large pool |       0    |       0    |       0    |       0    |\n",
      "|       from small pool |       0    |       0    |       0    |       0    |\n",
      "|---------------------------------------------------------------------------|\n",
      "| Non-releasable allocs |       0    |       0    |       0    |       0    |\n",
      "|       from large pool |       0    |       0    |       0    |       0    |\n",
      "|       from small pool |       0    |       0    |       0    |       0    |\n",
      "|===========================================================================|\n",
      "\n"
     ]
    }
   ],
   "source": [
    "os.environ['CUDA_LAUNCH_BLOCKING'] = \"1\"\n",
    "print(\"torch version\", th.__version__)\n",
    "print(th.cuda.memory_summary())"
   ]
  },
  {
   "cell_type": "code",
   "execution_count": 3,
   "metadata": {},
   "outputs": [],
   "source": [
    "from glide_text2im.download import load_checkpoint\n",
    "from glide_text2im.model_creation import (\n",
    "    create_model_and_diffusion,\n",
    "    model_and_diffusion_defaults,\n",
    "    model_and_diffusion_defaults_upsampler\n",
    ")"
   ]
  },
  {
   "cell_type": "code",
   "execution_count": 4,
   "metadata": {},
   "outputs": [
    {
     "name": "stdout",
     "output_type": "stream",
     "text": [
      "cuda\n"
     ]
    }
   ],
   "source": [
    "# has_cuda = False\n",
    "has_cuda = th.cuda.is_available() # This sporadically me a CUDA: Out of Memory Error when True\n",
    "device = th.device('cuda' if has_cuda else 'cpu')\n",
    "print(device)"
   ]
  },
  {
   "cell_type": "code",
   "execution_count": 6,
   "metadata": {},
   "outputs": [
    {
     "name": "stdout",
     "output_type": "stream",
     "text": [
      "|===========================================================================|\n",
      "|                  PyTorch CUDA memory summary, device ID 0                 |\n",
      "|---------------------------------------------------------------------------|\n",
      "|            CUDA OOMs: 0            |        cudaMalloc retries: 0         |\n",
      "|===========================================================================|\n",
      "|        Metric         | Cur Usage  | Peak Usage | Tot Alloc  | Tot Freed  |\n",
      "|---------------------------------------------------------------------------|\n",
      "| Allocated memory      |       0 B  |       0 B  |       0 B  |       0 B  |\n",
      "|       from large pool |       0 B  |       0 B  |       0 B  |       0 B  |\n",
      "|       from small pool |       0 B  |       0 B  |       0 B  |       0 B  |\n",
      "|---------------------------------------------------------------------------|\n",
      "| Active memory         |       0 B  |       0 B  |       0 B  |       0 B  |\n",
      "|       from large pool |       0 B  |       0 B  |       0 B  |       0 B  |\n",
      "|       from small pool |       0 B  |       0 B  |       0 B  |       0 B  |\n",
      "|---------------------------------------------------------------------------|\n",
      "| GPU reserved memory   |       0 B  |       0 B  |       0 B  |       0 B  |\n",
      "|       from large pool |       0 B  |       0 B  |       0 B  |       0 B  |\n",
      "|       from small pool |       0 B  |       0 B  |       0 B  |       0 B  |\n",
      "|---------------------------------------------------------------------------|\n",
      "| Non-releasable memory |       0 B  |       0 B  |       0 B  |       0 B  |\n",
      "|       from large pool |       0 B  |       0 B  |       0 B  |       0 B  |\n",
      "|       from small pool |       0 B  |       0 B  |       0 B  |       0 B  |\n",
      "|---------------------------------------------------------------------------|\n",
      "| Allocations           |       0    |       0    |       0    |       0    |\n",
      "|       from large pool |       0    |       0    |       0    |       0    |\n",
      "|       from small pool |       0    |       0    |       0    |       0    |\n",
      "|---------------------------------------------------------------------------|\n",
      "| Active allocs         |       0    |       0    |       0    |       0    |\n",
      "|       from large pool |       0    |       0    |       0    |       0    |\n",
      "|       from small pool |       0    |       0    |       0    |       0    |\n",
      "|---------------------------------------------------------------------------|\n",
      "| GPU reserved segments |       0    |       0    |       0    |       0    |\n",
      "|       from large pool |       0    |       0    |       0    |       0    |\n",
      "|       from small pool |       0    |       0    |       0    |       0    |\n",
      "|---------------------------------------------------------------------------|\n",
      "| Non-releasable allocs |       0    |       0    |       0    |       0    |\n",
      "|       from large pool |       0    |       0    |       0    |       0    |\n",
      "|       from small pool |       0    |       0    |       0    |       0    |\n",
      "|===========================================================================|\n",
      "\n"
     ]
    }
   ],
   "source": [
    "options = model_and_diffusion_defaults()\n",
    "options['use_fp16'] = has_cuda\n",
    "options['timestep_respacing'] = '100'\n",
    "print(th.cuda.memory_summary())"
   ]
  },
  {
   "cell_type": "code",
   "execution_count": 7,
   "metadata": {},
   "outputs": [
    {
     "name": "stdout",
     "output_type": "stream",
     "text": [
      "total base parameters 385030726\n"
     ]
    }
   ],
   "source": [
    "model, diffusion = create_model_and_diffusion(**options)\n",
    "model.eval()\n",
    "if has_cuda:\n",
    "    model.convert_to_fp16()\n",
    "model.to(device)\n",
    "model.load_state_dict(load_checkpoint('base', device))\n",
    "print('total base parameters', sum(x.numel() for x in model.parameters()))"
   ]
  },
  {
   "cell_type": "code",
   "execution_count": 8,
   "metadata": {},
   "outputs": [
    {
     "name": "stdout",
     "output_type": "stream",
     "text": [
      "|===========================================================================|\n",
      "|                  PyTorch CUDA memory summary, device ID 0                 |\n",
      "|---------------------------------------------------------------------------|\n",
      "|            CUDA OOMs: 0            |        cudaMalloc retries: 0         |\n",
      "|===========================================================================|\n",
      "|        Metric         | Cur Usage  | Peak Usage | Tot Alloc  | Tot Freed  |\n",
      "|---------------------------------------------------------------------------|\n",
      "| Allocated memory      |     806 MB |    2293 MB |    2293 MB |    1486 MB |\n",
      "|       from large pool |     765 MB |    2226 MB |    2226 MB |    1461 MB |\n",
      "|       from small pool |      40 MB |      66 MB |      66 MB |      25 MB |\n",
      "|---------------------------------------------------------------------------|\n",
      "| Active memory         |     806 MB |    2293 MB |    2293 MB |    1486 MB |\n",
      "|       from large pool |     765 MB |    2226 MB |    2226 MB |    1461 MB |\n",
      "|       from small pool |      40 MB |      66 MB |      66 MB |      25 MB |\n",
      "|---------------------------------------------------------------------------|\n",
      "| GPU reserved memory   |    2334 MB |    2334 MB |    2334 MB |       0 B  |\n",
      "|       from large pool |    2266 MB |    2266 MB |    2266 MB |       0 B  |\n",
      "|       from small pool |      68 MB |      68 MB |      68 MB |       0 B  |\n",
      "|---------------------------------------------------------------------------|\n",
      "| Non-releasable memory |    7851 KB |  533869 KB |    2218 MB |    2210 MB |\n",
      "|       from large pool |    6232 KB |  527222 KB |    2157 MB |    2151 MB |\n",
      "|       from small pool |    1619 KB |    8396 KB |      60 MB |      59 MB |\n",
      "|---------------------------------------------------------------------------|\n",
      "| Allocations           |     783    |    1566    |    1566    |     783    |\n",
      "|       from large pool |     192    |     422    |     422    |     230    |\n",
      "|       from small pool |     591    |    1144    |    1144    |     553    |\n",
      "|---------------------------------------------------------------------------|\n",
      "| Active allocs         |     783    |    1566    |    1566    |     783    |\n",
      "|       from large pool |     192    |     422    |     422    |     230    |\n",
      "|       from small pool |     591    |    1144    |    1144    |     553    |\n",
      "|---------------------------------------------------------------------------|\n",
      "| GPU reserved segments |     140    |     140    |     140    |       0    |\n",
      "|       from large pool |     106    |     106    |     106    |       0    |\n",
      "|       from small pool |      34    |      34    |      34    |       0    |\n",
      "|---------------------------------------------------------------------------|\n",
      "| Non-releasable allocs |       7    |      47    |     207    |     200    |\n",
      "|       from large pool |       2    |      35    |     156    |     154    |\n",
      "|       from small pool |       5    |      13    |      51    |      46    |\n",
      "|===========================================================================|\n",
      "\n"
     ]
    }
   ],
   "source": [
    "print(th.cuda.memory_summary())"
   ]
  },
  {
   "cell_type": "code",
   "execution_count": 9,
   "metadata": {},
   "outputs": [
    {
     "name": "stdout",
     "output_type": "stream",
     "text": [
      "|===========================================================================|\n",
      "|                  PyTorch CUDA memory summary, device ID 0                 |\n",
      "|---------------------------------------------------------------------------|\n",
      "|            CUDA OOMs: 0            |        cudaMalloc retries: 0         |\n",
      "|===========================================================================|\n",
      "|        Metric         | Cur Usage  | Peak Usage | Tot Alloc  | Tot Freed  |\n",
      "|---------------------------------------------------------------------------|\n",
      "| Allocated memory      |     806 MB |    2293 MB |    2293 MB |    1486 MB |\n",
      "|       from large pool |     765 MB |    2226 MB |    2226 MB |    1461 MB |\n",
      "|       from small pool |      40 MB |      66 MB |      66 MB |      25 MB |\n",
      "|---------------------------------------------------------------------------|\n",
      "| Active memory         |     806 MB |    2293 MB |    2293 MB |    1486 MB |\n",
      "|       from large pool |     765 MB |    2226 MB |    2226 MB |    1461 MB |\n",
      "|       from small pool |      40 MB |      66 MB |      66 MB |      25 MB |\n",
      "|---------------------------------------------------------------------------|\n",
      "| GPU reserved memory   |     814 MB |    2334 MB |    2334 MB |    1520 MB |\n",
      "|       from large pool |     772 MB |    2266 MB |    2266 MB |    1494 MB |\n",
      "|       from small pool |      42 MB |      68 MB |      68 MB |      26 MB |\n",
      "|---------------------------------------------------------------------------|\n",
      "| Non-releasable memory |    7851 KB |  533869 KB |    2218 MB |    2210 MB |\n",
      "|       from large pool |    6232 KB |  527222 KB |    2157 MB |    2151 MB |\n",
      "|       from small pool |    1619 KB |    8396 KB |      60 MB |      59 MB |\n",
      "|---------------------------------------------------------------------------|\n",
      "| Allocations           |     783    |    1566    |    1566    |     783    |\n",
      "|       from large pool |     192    |     422    |     422    |     230    |\n",
      "|       from small pool |     591    |    1144    |    1144    |     553    |\n",
      "|---------------------------------------------------------------------------|\n",
      "| Active allocs         |     783    |    1566    |    1566    |     783    |\n",
      "|       from large pool |     192    |     422    |     422    |     230    |\n",
      "|       from small pool |     591    |    1144    |    1144    |     553    |\n",
      "|---------------------------------------------------------------------------|\n",
      "| GPU reserved segments |      61    |     140    |     140    |      79    |\n",
      "|       from large pool |      40    |     106    |     106    |      66    |\n",
      "|       from small pool |      21    |      34    |      34    |      13    |\n",
      "|---------------------------------------------------------------------------|\n",
      "| Non-releasable allocs |       7    |      47    |     207    |     200    |\n",
      "|       from large pool |       2    |      35    |     156    |     154    |\n",
      "|       from small pool |       5    |      13    |      51    |      46    |\n",
      "|===========================================================================|\n",
      "\n"
     ]
    }
   ],
   "source": [
    "th.cuda.empty_cache()\n",
    "print(th.cuda.memory_summary())"
   ]
  },
  {
   "cell_type": "code",
   "execution_count": 10,
   "metadata": {},
   "outputs": [],
   "source": [
    "options_up = model_and_diffusion_defaults_upsampler()\n",
    "options_up['use_fp16'] = has_cuda\n",
    "options_up['timestep_respacing'] = 'fast27' # use 27 diffusion steps for very fast sampling"
   ]
  },
  {
   "cell_type": "code",
   "execution_count": 11,
   "metadata": {},
   "outputs": [
    {
     "name": "stdout",
     "output_type": "stream",
     "text": [
      "total upsampler parameters 398361286\n"
     ]
    }
   ],
   "source": [
    "model_up, diffusion_up = create_model_and_diffusion(**options_up)\n",
    "model_up.eval()\n",
    "if has_cuda:\n",
    "    model_up.convert_to_fp16()\n",
    "model_up.to(device)\n",
    "model_up.load_state_dict(load_checkpoint('upsample', device))\n",
    "# getting a GPU OOM unless cache is cleared\n",
    "# th.cuda.empty_cache()\n",
    "print('total upsampler parameters', sum(x.numel() for x in model_up.parameters()))"
   ]
  },
  {
   "cell_type": "code",
   "execution_count": 12,
   "metadata": {},
   "outputs": [
    {
     "name": "stdout",
     "output_type": "stream",
     "text": [
      "|===========================================================================|\n",
      "|                  PyTorch CUDA memory summary, device ID 0                 |\n",
      "|---------------------------------------------------------------------------|\n",
      "|            CUDA OOMs: 0            |        cudaMalloc retries: 0         |\n",
      "|===========================================================================|\n",
      "|        Metric         | Cur Usage  | Peak Usage | Tot Alloc  | Tot Freed  |\n",
      "|---------------------------------------------------------------------------|\n",
      "| Allocated memory      |    1648 MB |    3184 MB |    4671 MB |    3022 MB |\n",
      "|       from large pool |    1570 MB |    3081 MB |    4542 MB |    2972 MB |\n",
      "|       from small pool |      78 MB |     102 MB |     128 MB |      50 MB |\n",
      "|---------------------------------------------------------------------------|\n",
      "| Active memory         |    1648 MB |    3184 MB |    4671 MB |    3022 MB |\n",
      "|       from large pool |    1570 MB |    3081 MB |    4542 MB |    2972 MB |\n",
      "|       from small pool |      78 MB |     102 MB |     128 MB |      50 MB |\n",
      "|---------------------------------------------------------------------------|\n",
      "| GPU reserved memory   |    3228 MB |    3228 MB |    4748 MB |    1520 MB |\n",
      "|       from large pool |    3124 MB |    3124 MB |    4618 MB |    1494 MB |\n",
      "|       from small pool |     104 MB |     104 MB |     130 MB |      26 MB |\n",
      "|---------------------------------------------------------------------------|\n",
      "| Non-releasable memory |    7220 KB |  700993 KB |    4338 MB |    4331 MB |\n",
      "|       from large pool |    5736 KB |  698550 KB |    4221 MB |    4215 MB |\n",
      "|       from small pool |    1484 KB |    9355 KB |     116 MB |     115 MB |\n",
      "|---------------------------------------------------------------------------|\n",
      "| Allocations           |    1580    |    2377    |    3160    |    1580    |\n",
      "|       from large pool |     387    |     619    |     849    |     462    |\n",
      "|       from small pool |    1193    |    1758    |    2311    |    1118    |\n",
      "|---------------------------------------------------------------------------|\n",
      "| Active allocs         |    1580    |    2377    |    3160    |    1580    |\n",
      "|       from large pool |     387    |     619    |     849    |     462    |\n",
      "|       from small pool |    1193    |    1758    |    2311    |    1118    |\n",
      "|---------------------------------------------------------------------------|\n",
      "| GPU reserved segments |     202    |     202    |     281    |      79    |\n",
      "|       from large pool |     150    |     150    |     216    |      66    |\n",
      "|       from small pool |      52    |      52    |      65    |      13    |\n",
      "|---------------------------------------------------------------------------|\n",
      "| Non-releasable allocs |      11    |      61    |     418    |     407    |\n",
      "|       from large pool |       3    |      47    |     318    |     315    |\n",
      "|       from small pool |       8    |      15    |     100    |      92    |\n",
      "|===========================================================================|\n",
      "\n"
     ]
    }
   ],
   "source": [
    "print(th.cuda.memory_summary())"
   ]
  },
  {
   "cell_type": "code",
   "execution_count": 13,
   "metadata": {},
   "outputs": [],
   "source": [
    "def show_images(batch: th.Tensor):\n",
    "    \"\"\"Display a batch of images inline.\"\"\"\n",
    "    scaled = ((batch + 1)*127.5).round().clamp(0,255).to(th.uint8).cpu()\n",
    "    reshaped = scaled.permute(2, 0, 3, 1).reshape([batch.shape[2], -1, 3])\n",
    "    display(Image.fromarray(reshaped.numpy()))"
   ]
  },
  {
   "cell_type": "code",
   "execution_count": 14,
   "metadata": {},
   "outputs": [],
   "source": [
    "# Sampling parameters\n",
    "prompt = \"an oil painting of a corgi\"\n",
    "batch_size = 1\n",
    "guidance_scale = 3.0\n",
    "\n",
    "# Tune this parameter to control the sharpness of 256x256 images.\n",
    "# a value of 1.0 is sharper but sometimes results in grainy artifacts.\n",
    "upsample_temp = 0.997"
   ]
  },
  {
   "cell_type": "code",
   "execution_count": 15,
   "metadata": {},
   "outputs": [],
   "source": [
    "## Sample from the base model\n",
    "\n",
    "# Create the text tokens to feed to the model.\n",
    "tokens = model.tokenizer.encode(prompt)\n",
    "tokens, mask = model.tokenizer.padded_tokens_and_mask(tokens, options['text_ctx'])\n"
   ]
  },
  {
   "cell_type": "code",
   "execution_count": 17,
   "metadata": {},
   "outputs": [
    {
     "name": "stdout",
     "output_type": "stream",
     "text": [
      "|===========================================================================|\n",
      "|                  PyTorch CUDA memory summary, device ID 0                 |\n",
      "|---------------------------------------------------------------------------|\n",
      "|            CUDA OOMs: 0            |        cudaMalloc retries: 0         |\n",
      "|===========================================================================|\n",
      "|        Metric         | Cur Usage  | Peak Usage | Tot Alloc  | Tot Freed  |\n",
      "|---------------------------------------------------------------------------|\n",
      "| Allocated memory      |    1648 MB |    3184 MB |    4671 MB |    3022 MB |\n",
      "|       from large pool |    1570 MB |    3081 MB |    4542 MB |    2972 MB |\n",
      "|       from small pool |      78 MB |     102 MB |     128 MB |      50 MB |\n",
      "|---------------------------------------------------------------------------|\n",
      "| Active memory         |    1648 MB |    3184 MB |    4671 MB |    3022 MB |\n",
      "|       from large pool |    1570 MB |    3081 MB |    4542 MB |    2972 MB |\n",
      "|       from small pool |      78 MB |     102 MB |     128 MB |      50 MB |\n",
      "|---------------------------------------------------------------------------|\n",
      "| GPU reserved memory   |    3228 MB |    3228 MB |    4748 MB |    1520 MB |\n",
      "|       from large pool |    3124 MB |    3124 MB |    4618 MB |    1494 MB |\n",
      "|       from small pool |     104 MB |     104 MB |     130 MB |      26 MB |\n",
      "|---------------------------------------------------------------------------|\n",
      "| Non-releasable memory |    7220 KB |  700993 KB |    4338 MB |    4331 MB |\n",
      "|       from large pool |    5736 KB |  698550 KB |    4221 MB |    4215 MB |\n",
      "|       from small pool |    1484 KB |    9355 KB |     116 MB |     115 MB |\n",
      "|---------------------------------------------------------------------------|\n",
      "| Allocations           |    1580    |    2377    |    3160    |    1580    |\n",
      "|       from large pool |     387    |     619    |     849    |     462    |\n",
      "|       from small pool |    1193    |    1758    |    2311    |    1118    |\n",
      "|---------------------------------------------------------------------------|\n",
      "| Active allocs         |    1580    |    2377    |    3160    |    1580    |\n",
      "|       from large pool |     387    |     619    |     849    |     462    |\n",
      "|       from small pool |    1193    |    1758    |    2311    |    1118    |\n",
      "|---------------------------------------------------------------------------|\n",
      "| GPU reserved segments |     202    |     202    |     281    |      79    |\n",
      "|       from large pool |     150    |     150    |     216    |      66    |\n",
      "|       from small pool |      52    |      52    |      65    |      13    |\n",
      "|---------------------------------------------------------------------------|\n",
      "| Non-releasable allocs |      11    |      61    |     418    |     407    |\n",
      "|       from large pool |       3    |      47    |     318    |     315    |\n",
      "|       from small pool |       8    |      15    |     100    |      92    |\n",
      "|===========================================================================|\n",
      "\n"
     ]
    }
   ],
   "source": [
    "\n",
    "# Create the classifier-free guidance tokens (empty)\n",
    "full_batch_size = batch_size * 2\n",
    "uncond_tokens, uncond_mask = model.tokenizer.padded_tokens_and_mask( [], options['text_ctx'])\n",
    "\n",
    "print(th.cuda.memory_summary())"
   ]
  },
  {
   "cell_type": "code",
   "execution_count": 18,
   "metadata": {},
   "outputs": [
    {
     "name": "stdout",
     "output_type": "stream",
     "text": [
      "|===========================================================================|\n",
      "|                  PyTorch CUDA memory summary, device ID 0                 |\n",
      "|---------------------------------------------------------------------------|\n",
      "|            CUDA OOMs: 0            |        cudaMalloc retries: 0         |\n",
      "|===========================================================================|\n",
      "|        Metric         | Cur Usage  | Peak Usage | Tot Alloc  | Tot Freed  |\n",
      "|---------------------------------------------------------------------------|\n",
      "| Allocated memory      |    1648 MB |    3184 MB |    4671 MB |    3022 MB |\n",
      "|       from large pool |    1570 MB |    3081 MB |    4542 MB |    2972 MB |\n",
      "|       from small pool |      78 MB |     102 MB |     128 MB |      50 MB |\n",
      "|---------------------------------------------------------------------------|\n",
      "| Active memory         |    1648 MB |    3184 MB |    4671 MB |    3022 MB |\n",
      "|       from large pool |    1570 MB |    3081 MB |    4542 MB |    2972 MB |\n",
      "|       from small pool |      78 MB |     102 MB |     128 MB |      50 MB |\n",
      "|---------------------------------------------------------------------------|\n",
      "| GPU reserved memory   |    3228 MB |    3228 MB |    4748 MB |    1520 MB |\n",
      "|       from large pool |    3124 MB |    3124 MB |    4618 MB |    1494 MB |\n",
      "|       from small pool |     104 MB |     104 MB |     130 MB |      26 MB |\n",
      "|---------------------------------------------------------------------------|\n",
      "| Non-releasable memory |    7217 KB |  700993 KB |    4338 MB |    4331 MB |\n",
      "|       from large pool |    5736 KB |  698550 KB |    4221 MB |    4215 MB |\n",
      "|       from small pool |    1481 KB |    9355 KB |     116 MB |     115 MB |\n",
      "|---------------------------------------------------------------------------|\n",
      "| Allocations           |    1582    |    2377    |    3162    |    1580    |\n",
      "|       from large pool |     387    |     619    |     849    |     462    |\n",
      "|       from small pool |    1195    |    1758    |    2313    |    1118    |\n",
      "|---------------------------------------------------------------------------|\n",
      "| Active allocs         |    1582    |    2377    |    3162    |    1580    |\n",
      "|       from large pool |     387    |     619    |     849    |     462    |\n",
      "|       from small pool |    1195    |    1758    |    2313    |    1118    |\n",
      "|---------------------------------------------------------------------------|\n",
      "| GPU reserved segments |     202    |     202    |     281    |      79    |\n",
      "|       from large pool |     150    |     150    |     216    |      66    |\n",
      "|       from small pool |      52    |      52    |      65    |      13    |\n",
      "|---------------------------------------------------------------------------|\n",
      "| Non-releasable allocs |      10    |      61    |     418    |     408    |\n",
      "|       from large pool |       3    |      47    |     318    |     315    |\n",
      "|       from small pool |       7    |      15    |     100    |      93    |\n",
      "|===========================================================================|\n",
      "\n"
     ]
    }
   ],
   "source": [
    "\n",
    "# Pack the tokens together into model kwargs.\n",
    "model_kwargs = dict(\n",
    "    tokens = th.tensor([tokens] * batch_size + [uncond_tokens] * batch_size, device = device),\n",
    "    mask = th.tensor([mask] * batch_size + [uncond_mask] * batch_size, device = device, dtype=th.bool),\n",
    ")\n",
    "\n",
    "print(th.cuda.memory_summary())"
   ]
  },
  {
   "cell_type": "code",
   "execution_count": 19,
   "metadata": {},
   "outputs": [],
   "source": [
    "th.cuda.empty_cache()"
   ]
  },
  {
   "cell_type": "code",
   "execution_count": 20,
   "metadata": {},
   "outputs": [
    {
     "name": "stdout",
     "output_type": "stream",
     "text": [
      "|===========================================================================|\n",
      "|                  PyTorch CUDA memory summary, device ID 0                 |\n",
      "|---------------------------------------------------------------------------|\n",
      "|            CUDA OOMs: 0            |        cudaMalloc retries: 0         |\n",
      "|===========================================================================|\n",
      "|        Metric         | Cur Usage  | Peak Usage | Tot Alloc  | Tot Freed  |\n",
      "|---------------------------------------------------------------------------|\n",
      "| Allocated memory      |    1648 MB |    3184 MB |    4671 MB |    3022 MB |\n",
      "|       from large pool |    1570 MB |    3081 MB |    4542 MB |    2972 MB |\n",
      "|       from small pool |      78 MB |     102 MB |     128 MB |      50 MB |\n",
      "|---------------------------------------------------------------------------|\n",
      "| Active memory         |    1648 MB |    3184 MB |    4671 MB |    3022 MB |\n",
      "|       from large pool |    1570 MB |    3081 MB |    4542 MB |    2972 MB |\n",
      "|       from small pool |      78 MB |     102 MB |     128 MB |      50 MB |\n",
      "|---------------------------------------------------------------------------|\n",
      "| GPU reserved memory   |    1656 MB |    3228 MB |    4748 MB |    3092 MB |\n",
      "|       from large pool |    1576 MB |    3124 MB |    4618 MB |    3042 MB |\n",
      "|       from small pool |      80 MB |     104 MB |     130 MB |      50 MB |\n",
      "|---------------------------------------------------------------------------|\n",
      "| Non-releasable memory |    7217 KB |  700993 KB |    4338 MB |    4331 MB |\n",
      "|       from large pool |    5736 KB |  698550 KB |    4221 MB |    4215 MB |\n",
      "|       from small pool |    1481 KB |    9355 KB |     116 MB |     115 MB |\n",
      "|---------------------------------------------------------------------------|\n",
      "| Allocations           |    1582    |    2377    |    3162    |    1580    |\n",
      "|       from large pool |     387    |     619    |     849    |     462    |\n",
      "|       from small pool |    1195    |    1758    |    2313    |    1118    |\n",
      "|---------------------------------------------------------------------------|\n",
      "| Active allocs         |    1582    |    2377    |    3162    |    1580    |\n",
      "|       from large pool |     387    |     619    |     849    |     462    |\n",
      "|       from small pool |    1195    |    1758    |    2313    |    1118    |\n",
      "|---------------------------------------------------------------------------|\n",
      "| GPU reserved segments |     124    |     202    |     281    |     157    |\n",
      "|       from large pool |      84    |     150    |     216    |     132    |\n",
      "|       from small pool |      40    |      52    |      65    |      25    |\n",
      "|---------------------------------------------------------------------------|\n",
      "| Non-releasable allocs |      10    |      61    |     418    |     408    |\n",
      "|       from large pool |       3    |      47    |     318    |     315    |\n",
      "|       from small pool |       7    |      15    |     100    |      93    |\n",
      "|===========================================================================|\n",
      "\n"
     ]
    }
   ],
   "source": [
    "print(th.cuda.memory_summary())"
   ]
  },
  {
   "cell_type": "code",
   "execution_count": 21,
   "metadata": {},
   "outputs": [
    {
     "data": {
      "application/vnd.jupyter.widget-view+json": {
       "model_id": "b801aa391c734bf8a7ab39a7f8eb7ef3",
       "version_major": 2,
       "version_minor": 0
      },
      "text/plain": [
       "  0%|          | 0/100 [00:00<?, ?it/s]"
      ]
     },
     "metadata": {},
     "output_type": "display_data"
    }
   ],
   "source": [
    "\n",
    "# Create a classifier-free guidance sampling function\n",
    "\n",
    "def model_fn(x_t, ts, **kwargs):\n",
    "    half = x_t[: len(x_t) //2]\n",
    "    combined = th.cat([half, half], dim = 0)\n",
    "    model_out = model(combined, ts, **kwargs)\n",
    "    eps, rest = model_out[:, :3], model_out[:, 3:]\n",
    "    cond_eps, uncond_eps = th.split(eps, len(eps) // 2, dim = 0)\n",
    "    half_eps = uncond_eps + guidance_scale * (cond_eps - uncond_eps)\n",
    "    eps = th.cat([half_eps, half_eps], dim = 0)\n",
    "    return th.cat([eps, rest], dim = 1)\n",
    "\n",
    "# Sample from the base model\n",
    "model.del_cache()\n",
    "samples = diffusion.p_sample_loop(\n",
    "    model_fn,\n",
    "    (full_batch_size, 3, options[\"image_size\"], options[\"image_size\"]),\n",
    "    device=device,\n",
    "    clip_denoised=True,\n",
    "    progress=True,\n",
    "    model_kwargs=model_kwargs,\n",
    "    cond_fn=None,\n",
    ")[:batch_size]\n",
    "model.del_cache()\n"
   ]
  },
  {
   "cell_type": "code",
   "execution_count": 22,
   "metadata": {},
   "outputs": [
    {
     "data": {
      "image/png": "[encoded data removed]",
      "text/plain": [
       "<PIL.Image.Image image mode=RGB size=64x64 at 0x7F1E9C5FCFD0>"
      ]
     },
     "metadata": {},
     "output_type": "display_data"
    }
   ],
   "source": [
    "\n",
    "show_images(samples)"
   ]
  },
  {
   "cell_type": "code",
   "execution_count": 23,
   "metadata": {},
   "outputs": [
    {
     "name": "stdout",
     "output_type": "stream",
     "text": [
      "|===========================================================================|\n",
      "|                  PyTorch CUDA memory summary, device ID 0                 |\n",
      "|---------------------------------------------------------------------------|\n",
      "|            CUDA OOMs: 0            |        cudaMalloc retries: 0         |\n",
      "|===========================================================================|\n",
      "|        Metric         | Cur Usage  | Peak Usage | Tot Alloc  | Tot Freed  |\n",
      "|---------------------------------------------------------------------------|\n",
      "| Allocated memory      |    1649 MB |    3184 MB |  373599 MB |  371950 MB |\n",
      "|       from large pool |    1570 MB |    3081 MB |  332776 MB |  331205 MB |\n",
      "|       from small pool |      78 MB |     102 MB |   40823 MB |   40745 MB |\n",
      "|---------------------------------------------------------------------------|\n",
      "| Active memory         |    1649 MB |    3184 MB |  373599 MB |  371950 MB |\n",
      "|       from large pool |    1570 MB |    3081 MB |  332776 MB |  331205 MB |\n",
      "|       from small pool |      78 MB |     102 MB |   40823 MB |   40745 MB |\n",
      "|---------------------------------------------------------------------------|\n",
      "| GPU reserved memory   |    1842 MB |    3228 MB |    4934 MB |    3092 MB |\n",
      "|       from large pool |    1752 MB |    3124 MB |    4794 MB |    3042 MB |\n",
      "|       from small pool |      90 MB |     104 MB |     140 MB |      50 MB |\n",
      "|---------------------------------------------------------------------------|\n",
      "| Non-releasable memory |    7121 KB |  700993 KB |  328328 MB |  328321 MB |\n",
      "|       from large pool |    5736 KB |  698550 KB |  279660 MB |  279654 MB |\n",
      "|       from small pool |    1385 KB |    9355 KB |   48668 MB |   48667 MB |\n",
      "|---------------------------------------------------------------------------|\n",
      "| Allocations           |    1583    |    2377    |  217068    |  215485    |\n",
      "|       from large pool |     387    |     619    |   58449    |   58062    |\n",
      "|       from small pool |    1196    |    1758    |  158619    |  157423    |\n",
      "|---------------------------------------------------------------------------|\n",
      "| Active allocs         |    1583    |    2377    |  217068    |  215485    |\n",
      "|       from large pool |     387    |     619    |   58449    |   58062    |\n",
      "|       from small pool |    1196    |    1758    |  158619    |  157423    |\n",
      "|---------------------------------------------------------------------------|\n",
      "| GPU reserved segments |     134    |     202    |     291    |     157    |\n",
      "|       from large pool |      89    |     150    |     221    |     132    |\n",
      "|       from small pool |      45    |      52    |      70    |      25    |\n",
      "|---------------------------------------------------------------------------|\n",
      "| Non-releasable allocs |      10    |      61    |  102382    |  102372    |\n",
      "|       from large pool |       3    |      47    |   30918    |   30915    |\n",
      "|       from small pool |       7    |      15    |   71464    |   71457    |\n",
      "|===========================================================================|\n",
      "\n"
     ]
    }
   ],
   "source": [
    "print(th.cuda.memory_summary())"
   ]
  }
 ],
 "metadata": {
  "interpreter": {
   "hash": "36fd232ae0ec2bce823ce5f9d3fd67e4db9a15f1eaff904e6293626434c24bc0"
  },
  "kernelspec": {
   "display_name": "Python 3.9.7 64-bit ('cognascent': conda)",
   "language": "python",
   "name": "python3"
  },
  "language_info": {
   "codemirror_mode": {
    "name": "ipython",
    "version": 3
   },
   "file_extension": ".py",
   "mimetype": "text/x-python",
   "name": "python",
   "nbconvert_exporter": "python",
   "pygments_lexer": "ipython3",
   "version": "3.9.7"
  },
  "orig_nbformat": 4
 },
 "nbformat": 4,
 "nbformat_minor": 2
}
