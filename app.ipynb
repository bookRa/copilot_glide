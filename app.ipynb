{
 "cells": [
  {
   "cell_type": "code",
   "execution_count": 1,
   "metadata": {},
   "outputs": [],
   "source": [
    "from PIL import Image\n",
    "import torch as th\n",
    "import os\n",
    "\n",
    "from glide_text2im.download import load_checkpoint\n",
    "from glide_text2im.model_creation import (\n",
    "    create_model_and_diffusion,\n",
    "    model_and_diffusion_defaults,\n",
    "    model_and_diffusion_defaults_upsampler\n",
    ")"
   ]
  },
  {
   "cell_type": "code",
   "execution_count": 2,
   "metadata": {},
   "outputs": [],
   "source": [
    "def init_cuda_device_options():\n",
    "    has_cuda = th.cuda.is_available()\n",
    "    device = th.device('cuda' if has_cuda else 'cpu')\n",
    "    options = model_and_diffusion_defaults()\n",
    "    options['use_fp16'] = has_cuda\n",
    "    options['timestep_respacing'] = '100'\n",
    "    return has_cuda, device, options\n"
   ]
  },
  {
   "cell_type": "code",
   "execution_count": 3,
   "metadata": {},
   "outputs": [],
   "source": [
    "has_cuda, device, options = init_cuda_device_options()\n",
    "model, diffusion = create_model_and_diffusion(**options)"
   ]
  },
  {
   "cell_type": "code",
   "execution_count": 4,
   "metadata": {},
   "outputs": [
    {
     "name": "stdout",
     "output_type": "stream",
     "text": [
      "total base parameters 385030726\n"
     ]
    }
   ],
   "source": [
    "model.eval()\n",
    "if has_cuda:\n",
    "    model.convert_to_fp16()\n",
    "model.to(device)\n",
    "model.load_state_dict(th.load('glide_model_cache/base.pt'))\n",
    "print('total base parameters', sum(x.numel() for x in model.parameters()))"
   ]
  },
  {
   "cell_type": "code",
   "execution_count": 5,
   "metadata": {},
   "outputs": [
    {
     "name": "stdout",
     "output_type": "stream",
     "text": [
      "|===========================================================================|\n",
      "|                  PyTorch CUDA memory summary, device ID 0                 |\n",
      "|---------------------------------------------------------------------------|\n",
      "|            CUDA OOMs: 0            |        cudaMalloc retries: 0         |\n",
      "|===========================================================================|\n",
      "|        Metric         | Cur Usage  | Peak Usage | Tot Alloc  | Tot Freed  |\n",
      "|---------------------------------------------------------------------------|\n",
      "| Allocated memory      |     806 MB |     806 MB |     806 MB |       0 B  |\n",
      "|       from large pool |     765 MB |     765 MB |     765 MB |       0 B  |\n",
      "|       from small pool |      40 MB |      40 MB |      40 MB |       0 B  |\n",
      "|---------------------------------------------------------------------------|\n",
      "| Active memory         |     806 MB |     806 MB |     806 MB |       0 B  |\n",
      "|       from large pool |     765 MB |     765 MB |     765 MB |       0 B  |\n",
      "|       from small pool |      40 MB |      40 MB |      40 MB |       0 B  |\n",
      "|---------------------------------------------------------------------------|\n",
      "| GPU reserved memory   |     814 MB |     814 MB |     814 MB |       0 B  |\n",
      "|       from large pool |     772 MB |     772 MB |     772 MB |       0 B  |\n",
      "|       from small pool |      42 MB |      42 MB |      42 MB |       0 B  |\n",
      "|---------------------------------------------------------------------------|\n",
      "| Non-releasable memory |    7851 KB |   29354 KB |  498232 KB |  490380 KB |\n",
      "|       from large pool |    6232 KB |   28336 KB |  469368 KB |  463136 KB |\n",
      "|       from small pool |    1619 KB |    3025 KB |   28864 KB |   27244 KB |\n",
      "|---------------------------------------------------------------------------|\n",
      "| Allocations           |     783    |     783    |     783    |       0    |\n",
      "|       from large pool |     192    |     192    |     192    |       0    |\n",
      "|       from small pool |     591    |     591    |     591    |       0    |\n",
      "|---------------------------------------------------------------------------|\n",
      "| Active allocs         |     783    |     783    |     783    |       0    |\n",
      "|       from large pool |     192    |     192    |     192    |       0    |\n",
      "|       from small pool |     591    |     591    |     591    |       0    |\n",
      "|---------------------------------------------------------------------------|\n",
      "| GPU reserved segments |      61    |      61    |      61    |       0    |\n",
      "|       from large pool |      40    |      40    |      40    |       0    |\n",
      "|       from small pool |      21    |      21    |      21    |       0    |\n",
      "|---------------------------------------------------------------------------|\n",
      "| Non-releasable allocs |       7    |      14    |      57    |      50    |\n",
      "|       from large pool |       2    |       7    |      36    |      34    |\n",
      "|       from small pool |       5    |      11    |      21    |      16    |\n",
      "|===========================================================================|\n",
      "\n"
     ]
    }
   ],
   "source": [
    "print(th.cuda.memory_summary())"
   ]
  },
  {
   "cell_type": "code",
   "execution_count": 23,
   "metadata": {},
   "outputs": [],
   "source": [
    "# Create a classifier-free guidance sampling function\n",
    "th.cuda.empty_cache()\n",
    "\n",
    "prompt = \"Godzilla fighting King Kong\"\n",
    "num_variations = 4\n",
    "\n",
    "guidance_scale = 6.0\n",
    "upsample_temp = 0.997\n",
    "\n",
    "# Create the text tokens to feed to the model.\n",
    "tokens = model.tokenizer.encode(prompt)\n",
    "tokens, mask = model.tokenizer.padded_tokens_and_mask(tokens, options['text_ctx'])\n",
    "full_batch_size = num_variations *2\n",
    "uncond_tokens, uncond_mask = model.tokenizer.padded_tokens_and_mask([], options['text_ctx'])\n",
    "model_kwargs = dict(\n",
    "    tokens = th.tensor([tokens] * num_variations + [uncond_tokens] * num_variations, device = device),\n",
    "    mask = th.tensor([mask] * num_variations + [uncond_mask] * num_variations, device=device, dtype=th.bool),\n",
    ")\n",
    "\n",
    "def model_fn(x_t, ts, **kwargs):\n",
    "    half = x_t[: len(x_t) //2]\n",
    "    combined = th.cat([half, half], dim = 0)\n",
    "    model_out = model(combined, ts, **kwargs)\n",
    "    eps, rest = model_out[:, :3], model_out[:, 3:]\n",
    "    cond_eps, uncond_eps = th.split(eps, len(eps) // 2, dim = 0)\n",
    "    half_eps = uncond_eps + guidance_scale * (cond_eps - uncond_eps)\n",
    "    eps = th.cat([half_eps, half_eps], dim = 0)\n",
    "    return th.cat([eps, rest], dim = 1)"
   ]
  },
  {
   "cell_type": "code",
   "execution_count": 24,
   "metadata": {},
   "outputs": [
    {
     "data": {
      "application/vnd.jupyter.widget-view+json": {
       "model_id": "e401a253b9304241861e6ca0f9ba3eb0",
       "version_major": 2,
       "version_minor": 0
      },
      "text/plain": [
       "  0%|          | 0/100 [00:00<?, ?it/s]"
      ]
     },
     "metadata": {},
     "output_type": "display_data"
    },
    {
     "name": "stdout",
     "output_type": "stream",
     "text": [
      "torch.Size([4, 3, 64, 64]) torch.Size([4, 3, 64, 64]) torch.Size([64, 256, 3]) (64, 256, 3)\n"
     ]
    }
   ],
   "source": [
    "model.del_cache()\n",
    "samples = diffusion.p_sample_loop(\n",
    "    model_fn,\n",
    "    (full_batch_size, 3, options['image_size'], options['image_size']),\n",
    "    device = device,\n",
    "    clip_denoised=True,\n",
    "    progress=True,\n",
    "    model_kwargs=model_kwargs,\n",
    "    cond_fn=None\n",
    ")[:num_variations]\n",
    "model.del_cache()\n",
    "\n",
    "scaled: th.Tensor =( (samples + 1) * 127.5).round().clamp(0,255).to(th.uint8).cpu()\n",
    "reshaped = scaled.permute(2, 0, 3, 1).reshape([samples.shape[2], -1, 3])\n",
    "print(\n",
    "    samples.size(),\n",
    "    scaled.size(),\n",
    "    reshaped.size(),\n",
    "    reshaped.numpy().shape\n",
    ")"
   ]
  },
  {
   "cell_type": "code",
   "execution_count": 25,
   "metadata": {},
   "outputs": [
    {
     "data": {
      "image/png": "[encoded data removed]",
      "text/plain": [
       "<PIL.Image.Image image mode=RGB size=256x64 at 0x7FA7900E3C10>"
      ]
     },
     "execution_count": 25,
     "metadata": {},
     "output_type": "execute_result"
    }
   ],
   "source": [
    "Image.fromarray(reshaped.numpy())"
   ]
  },
  {
   "cell_type": "code",
   "execution_count": 26,
   "metadata": {},
   "outputs": [
    {
     "name": "stdout",
     "output_type": "stream",
     "text": [
      "(64, 256, 3)\n"
     ]
    }
   ],
   "source": [
    "foo = reshaped.numpy()\n",
    "print(foo.shape)"
   ]
  },
  {
   "cell_type": "code",
   "execution_count": 27,
   "metadata": {},
   "outputs": [
    {
     "data": {
      "image/png": "[encoded data removed]",
      "text/plain": [
       "<PIL.Image.Image image mode=RGB size=64x64 at 0x7FA790078B80>"
      ]
     },
     "execution_count": 27,
     "metadata": {},
     "output_type": "execute_result"
    }
   ],
   "source": [
    "bar = foo[:64, 64*3:64*4, :]\n",
    "Image.fromarray(bar)\n"
   ]
  },
  {
   "cell_type": "code",
   "execution_count": 28,
   "metadata": {},
   "outputs": [
    {
     "name": "stdout",
     "output_type": "stream",
     "text": [
      "[[[104 103 141]\n",
      "  [104 103 141]\n",
      "  [104 103 141]\n",
      "  ...\n",
      "  [104 103 141]\n",
      "  [104 103 140]\n",
      "  [104 103 141]]\n",
      "\n",
      " [[104 103 141]\n",
      "  [104 103 140]\n",
      "  [104 103 140]\n",
      "  ...\n",
      "  [104 103 140]\n",
      "  [103 103 140]\n",
      "  [104 103 140]]\n",
      "\n",
      " [[104 103 140]\n",
      "  [104 103 140]\n",
      "  [104 103 140]\n",
      "  ...\n",
      "  [104 102 139]\n",
      "  [104 103 141]\n",
      "  [104 103 140]]\n",
      "\n",
      " ...\n",
      "\n",
      " [[255 216  59]\n",
      "  [255 216  60]\n",
      "  [255 216  60]\n",
      "  ...\n",
      "  [255 216  60]\n",
      "  [255 216  60]\n",
      "  [254 216  60]]\n",
      "\n",
      " [[255 217  60]\n",
      "  [255 217  60]\n",
      "  [255 216  60]\n",
      "  ...\n",
      "  [255 216  61]\n",
      "  [254 216  61]\n",
      "  [254 216  60]]\n",
      "\n",
      " [[255 218  59]\n",
      "  [255 217  60]\n",
      "  [255 217  60]\n",
      "  ...\n",
      "  [255 217  61]\n",
      "  [255 217  61]\n",
      "  [255 217  60]]]\n"
     ]
    }
   ],
   "source": [
    "print(bar)"
   ]
  }
 ],
 "metadata": {
  "interpreter": {
   "hash": "0369b954be93a71101cffefe9df9d757523104a20d6cb413ee43d4c726b785c9"
  },
  "kernelspec": {
   "display_name": "Python 3.9.7 64-bit ('glide': conda)",
   "language": "python",
   "name": "python3"
  },
  "language_info": {
   "codemirror_mode": {
    "name": "ipython",
    "version": 3
   },
   "file_extension": ".py",
   "mimetype": "text/x-python",
   "name": "python",
   "nbconvert_exporter": "python",
   "pygments_lexer": "ipython3",
   "version": "3.9.7"
  },
  "orig_nbformat": 4
 },
 "nbformat": 4,
 "nbformat_minor": 2
}
