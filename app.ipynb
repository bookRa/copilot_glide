{
 "cells": [
  {
   "cell_type": "code",
   "execution_count": 1,
   "metadata": {},
   "outputs": [],
   "source": [
    "from PIL import Image\n",
    "import torch as th\n",
    "import os\n",
    "\n",
    "from glide_text2im.download import load_checkpoint\n",
    "from glide_text2im.model_creation import (\n",
    "    create_model_and_diffusion,\n",
    "    model_and_diffusion_defaults,\n",
    "    model_and_diffusion_defaults_upsampler\n",
    ")"
   ]
  },
  {
   "cell_type": "code",
   "execution_count": 2,
   "metadata": {},
   "outputs": [],
   "source": [
    "def init_cuda_device_options():\n",
    "    has_cuda = th.cuda.is_available()\n",
    "    device = th.device('cuda' if has_cuda else 'cpu')\n",
    "    options = model_and_diffusion_defaults()\n",
    "    options['use_fp16'] = has_cuda\n",
    "    options['timestep_respacing'] = '100'\n",
    "    return has_cuda, device, options\n"
   ]
  },
  {
   "cell_type": "code",
   "execution_count": 3,
   "metadata": {},
   "outputs": [],
   "source": [
    "has_cuda, device, options = init_cuda_device_options()\n",
    "model, diffusion = create_model_and_diffusion(**options)"
   ]
  },
  {
   "cell_type": "code",
   "execution_count": 4,
   "metadata": {},
   "outputs": [
    {
     "name": "stdout",
     "output_type": "stream",
     "text": [
      "total base parameters 385030726\n"
     ]
    }
   ],
   "source": [
    "model.eval()\n",
    "if has_cuda:\n",
    "    model.convert_to_fp16()\n",
    "model.to(device)\n",
    "model.load_state_dict(load_checkpoint('base', device))\n",
    "print('total base parameters', sum(x.numel() for x in model.parameters()))"
   ]
  },
  {
   "cell_type": "code",
   "execution_count": 5,
   "metadata": {},
   "outputs": [
    {
     "name": "stdout",
     "output_type": "stream",
     "text": [
      "|===========================================================================|\n",
      "|                  PyTorch CUDA memory summary, device ID 0                 |\n",
      "|---------------------------------------------------------------------------|\n",
      "|            CUDA OOMs: 0            |        cudaMalloc retries: 0         |\n",
      "|===========================================================================|\n",
      "|        Metric         | Cur Usage  | Peak Usage | Tot Alloc  | Tot Freed  |\n",
      "|---------------------------------------------------------------------------|\n",
      "| Allocated memory      |     806 MB |    2293 MB |    2293 MB |    1486 MB |\n",
      "|       from large pool |     765 MB |    2226 MB |    2226 MB |    1461 MB |\n",
      "|       from small pool |      40 MB |      66 MB |      66 MB |      25 MB |\n",
      "|---------------------------------------------------------------------------|\n",
      "| Active memory         |     806 MB |    2293 MB |    2293 MB |    1486 MB |\n",
      "|       from large pool |     765 MB |    2226 MB |    2226 MB |    1461 MB |\n",
      "|       from small pool |      40 MB |      66 MB |      66 MB |      25 MB |\n",
      "|---------------------------------------------------------------------------|\n",
      "| GPU reserved memory   |    2334 MB |    2334 MB |    2334 MB |       0 B  |\n",
      "|       from large pool |    2266 MB |    2266 MB |    2266 MB |       0 B  |\n",
      "|       from small pool |      68 MB |      68 MB |      68 MB |       0 B  |\n",
      "|---------------------------------------------------------------------------|\n",
      "| Non-releasable memory |    7851 KB |  533869 KB |    2218 MB |    2210 MB |\n",
      "|       from large pool |    6232 KB |  527222 KB |    2157 MB |    2151 MB |\n",
      "|       from small pool |    1619 KB |    8396 KB |      60 MB |      59 MB |\n",
      "|---------------------------------------------------------------------------|\n",
      "| Allocations           |     783    |    1566    |    1566    |     783    |\n",
      "|       from large pool |     192    |     422    |     422    |     230    |\n",
      "|       from small pool |     591    |    1144    |    1144    |     553    |\n",
      "|---------------------------------------------------------------------------|\n",
      "| Active allocs         |     783    |    1566    |    1566    |     783    |\n",
      "|       from large pool |     192    |     422    |     422    |     230    |\n",
      "|       from small pool |     591    |    1144    |    1144    |     553    |\n",
      "|---------------------------------------------------------------------------|\n",
      "| GPU reserved segments |     140    |     140    |     140    |       0    |\n",
      "|       from large pool |     106    |     106    |     106    |       0    |\n",
      "|       from small pool |      34    |      34    |      34    |       0    |\n",
      "|---------------------------------------------------------------------------|\n",
      "| Non-releasable allocs |       7    |      47    |     207    |     200    |\n",
      "|       from large pool |       2    |      35    |     156    |     154    |\n",
      "|       from small pool |       5    |      13    |      51    |      46    |\n",
      "|===========================================================================|\n",
      "\n"
     ]
    }
   ],
   "source": [
    "print(th.cuda.memory_summary())"
   ]
  },
  {
   "cell_type": "code",
   "execution_count": 6,
   "metadata": {},
   "outputs": [],
   "source": [
    "th.cuda.empty_cache()\n",
    "prompt = \"a bird on a rocket\"\n",
    "batch_size = 3\n",
    "guidance_scale = 3.0\n",
    "\n",
    "upsample_temp = 0.997\n"
   ]
  },
  {
   "cell_type": "code",
   "execution_count": 7,
   "metadata": {},
   "outputs": [],
   "source": [
    "# Create the text tokens to feed to the model.\n",
    "tokens = model.tokenizer.encode(prompt)\n",
    "tokens, mask = model.tokenizer.padded_tokens_and_mask(tokens, options['text_ctx'])"
   ]
  },
  {
   "cell_type": "code",
   "execution_count": 8,
   "metadata": {},
   "outputs": [],
   "source": [
    "full_batch_size = batch_size *2\n",
    "uncond_tokens, uncond_mask = model.tokenizer.padded_tokens_and_mask([], options['text_ctx'])"
   ]
  },
  {
   "cell_type": "code",
   "execution_count": 9,
   "metadata": {},
   "outputs": [],
   "source": [
    "model_kwargs = dict(\n",
    "    tokens = th.tensor([tokens] * batch_size + [uncond_tokens] * batch_size, device = device),\n",
    "    mask = th.tensor([mask] * batch_size + [uncond_mask] * batch_size, device=device, dtype=th.bool),\n",
    ")"
   ]
  },
  {
   "cell_type": "code",
   "execution_count": 10,
   "metadata": {},
   "outputs": [],
   "source": [
    "# Create a classifier-free guidance sampling function\n",
    "\n",
    "def model_fn(x_t, ts, **kwargs):\n",
    "    half = x_t[: len(x_t) //2]\n",
    "    combined = th.cat([half, half], dim = 0)\n",
    "    model_out = model(combined, ts, **kwargs)\n",
    "    eps, rest = model_out[:, :3], model_out[:, 3:]\n",
    "    cond_eps, uncond_eps = th.split(eps, len(eps) // 2, dim = 0)\n",
    "    half_eps = uncond_eps + guidance_scale * (cond_eps - uncond_eps)\n",
    "    eps = th.cat([half_eps, half_eps], dim = 0)\n",
    "    return th.cat([eps, rest], dim = 1)"
   ]
  },
  {
   "cell_type": "code",
   "execution_count": 13,
   "metadata": {},
   "outputs": [
    {
     "data": {
      "application/vnd.jupyter.widget-view+json": {
       "model_id": "efa9f843a5c44887827b9ab7099911d7",
       "version_major": 2,
       "version_minor": 0
      },
      "text/plain": [
       "  0%|          | 0/100 [00:00<?, ?it/s]"
      ]
     },
     "metadata": {},
     "output_type": "display_data"
    }
   ],
   "source": [
    "model.del_cache()\n",
    "samples = diffusion.p_sample_loop(\n",
    "    model_fn,\n",
    "    (full_batch_size, 3, options['image_size'], options['image_size']),\n",
    "    device = device,\n",
    "    clip_denoised=True,\n",
    "    progress=True,\n",
    "    model_kwargs=model_kwargs,\n",
    "    cond_fn=None\n",
    ")\n",
    "model.del_cache()\n"
   ]
  },
  {
   "cell_type": "code",
   "execution_count": 43,
   "metadata": {},
   "outputs": [],
   "source": [
    "scaled: th.Tensor =( (samples + 1) * 127.5).round().clamp(0,255).to(th.uint8).cpu()"
   ]
  },
  {
   "cell_type": "code",
   "execution_count": 47,
   "metadata": {},
   "outputs": [],
   "source": [
    "reshaped = scaled.permute(2, 0, 3, 1).reshape([samples.shape[2], -1, 3])"
   ]
  },
  {
   "cell_type": "code",
   "execution_count": 50,
   "metadata": {},
   "outputs": [
    {
     "name": "stdout",
     "output_type": "stream",
     "text": [
      "torch.Size([6, 3, 64, 64]) torch.Size([6, 3, 64, 64]) torch.Size([64, 384, 3]) (64, 384, 3)\n"
     ]
    }
   ],
   "source": [
    "print(\n",
    "    samples.size(),\n",
    "    scaled.size(),\n",
    "    reshaped.size(),\n",
    "    reshaped.numpy().shape\n",
    ")"
   ]
  },
  {
   "cell_type": "code",
   "execution_count": 48,
   "metadata": {},
   "outputs": [
    {
     "data": {
      "image/png": "[encoded data removed]",
      "text/plain": [
       "<PIL.Image.Image image mode=RGB size=384x64 at 0x7F9481D44790>"
      ]
     },
     "execution_count": 48,
     "metadata": {},
     "output_type": "execute_result"
    }
   ],
   "source": [
    "Image.fromarray(reshaped.numpy())"
   ]
  },
  {
   "cell_type": "code",
   "execution_count": 71,
   "metadata": {},
   "outputs": [
    {
     "name": "stdout",
     "output_type": "stream",
     "text": [
      "(64, 384, 3)\n"
     ]
    }
   ],
   "source": [
    "foo = reshaped.numpy()\n",
    "print(foo.shape)"
   ]
  },
  {
   "cell_type": "code",
   "execution_count": 92,
   "metadata": {},
   "outputs": [
    {
     "data": {
      "image/png": "[encoded data removed]",
      "text/plain": [
       "<PIL.Image.Image image mode=RGB size=64x64 at 0x7F9481D44C10>"
      ]
     },
     "execution_count": 92,
     "metadata": {},
     "output_type": "execute_result"
    }
   ],
   "source": [
    "bar = foo[:64, :64, :]\n",
    "Image.fromarray(bar)\n"
   ]
  },
  {
   "cell_type": "code",
   "execution_count": 93,
   "metadata": {},
   "outputs": [
    {
     "name": "stdout",
     "output_type": "stream",
     "text": [
      "[[[134 191 230]\n",
      "  [134 191 230]\n",
      "  [135 192 230]\n",
      "  ...\n",
      "  [135 192 231]\n",
      "  [135 192 231]\n",
      "  [135 192 231]]\n",
      "\n",
      " [[134 192 230]\n",
      "  [135 192 230]\n",
      "  [135 192 230]\n",
      "  ...\n",
      "  [135 192 231]\n",
      "  [135 192 231]\n",
      "  [135 192 231]]\n",
      "\n",
      " [[135 192 230]\n",
      "  [135 192 230]\n",
      "  [135 192 230]\n",
      "  ...\n",
      "  [135 193 231]\n",
      "  [135 193 231]\n",
      "  [135 192 231]]\n",
      "\n",
      " ...\n",
      "\n",
      " [[138 195 233]\n",
      "  [138 195 233]\n",
      "  [138 195 234]\n",
      "  ...\n",
      "  [138 196 234]\n",
      "  [138 195 234]\n",
      "  [138 195 234]]\n",
      "\n",
      " [[138 195 233]\n",
      "  [138 195 233]\n",
      "  [138 195 233]\n",
      "  ...\n",
      "  [138 196 234]\n",
      "  [138 195 234]\n",
      "  [138 195 234]]\n",
      "\n",
      " [[138 195 233]\n",
      "  [138 195 233]\n",
      "  [138 195 233]\n",
      "  ...\n",
      "  [138 195 234]\n",
      "  [138 195 234]\n",
      "  [138 195 234]]]\n"
     ]
    }
   ],
   "source": [
    "print(bar)"
   ]
  }
 ],
 "metadata": {
  "interpreter": {
   "hash": "0369b954be93a71101cffefe9df9d757523104a20d6cb413ee43d4c726b785c9"
  },
  "kernelspec": {
   "display_name": "Python 3.9.7 64-bit ('glide': conda)",
   "language": "python",
   "name": "python3"
  },
  "language_info": {
   "codemirror_mode": {
    "name": "ipython",
    "version": 3
   },
   "file_extension": ".py",
   "mimetype": "text/x-python",
   "name": "python",
   "nbconvert_exporter": "python",
   "pygments_lexer": "ipython3",
   "version": "3.9.7"
  },
  "orig_nbformat": 4
 },
 "nbformat": 4,
 "nbformat_minor": 2
}
